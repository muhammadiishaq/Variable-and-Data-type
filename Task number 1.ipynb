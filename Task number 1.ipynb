{
 "cells": [
  {
   "cell_type": "markdown",
   "id": "64ef447a",
   "metadata": {},
   "source": [
    "## Task number 1 : Python Varaibles and Data Types .\n"
   ]
  },
  {
   "cell_type": "markdown",
   "id": "71c5e0a5",
   "metadata": {},
   "source": [
    "## Question No :: 01\n",
    "• Declare and initialize two variables, num1 and num2, with integer values. Calculate and print \n",
    "their sum"
   ]
  },
  {
   "cell_type": "code",
   "execution_count": 29,
   "id": "ed69a37c",
   "metadata": {},
   "outputs": [
    {
     "name": "stdout",
     "output_type": "stream",
     "text": [
      "The sum of  5 and 8 is: 13\n"
     ]
    }
   ],
   "source": [
    "num1 = 5\n",
    "num2 = 8\n",
    "# calculate and print their sum\n",
    "\n",
    "sum_result = num1 + num2\n",
    "\n",
    "print('The sum of ',num1, \"and\",num2,\"is:\",sum_result)\n"
   ]
  },
  {
   "cell_type": "markdown",
   "id": "d88a4922",
   "metadata": {},
   "source": [
    "## Question No :: 02\n",
    "• Create a variable, message, and assign it a string value. Append another string, \" World!\", to it\n",
    "and print the result."
   ]
  },
  {
   "cell_type": "code",
   "execution_count": 30,
   "id": "8d3c95da",
   "metadata": {},
   "outputs": [
    {
     "name": "stdout",
     "output_type": "stream",
     "text": [
      "Hello World!\n"
     ]
    }
   ],
   "source": [
    "message = \"Hello\"\n",
    "\n",
    "message += \" World!\"\n",
    "\n",
    "print(message)"
   ]
  },
  {
   "cell_type": "markdown",
   "id": "bfed7e14",
   "metadata": {},
   "source": [
    "## Question No :: 03\n",
    "• Define a variable, is_python_fun, and assign it a boolean value. Print a statement based on\n",
    "whether Python is considered fun."
   ]
  },
  {
   "cell_type": "code",
   "execution_count": 31,
   "id": "f4ee9de3",
   "metadata": {},
   "outputs": [
    {
     "name": "stdout",
     "output_type": "stream",
     "text": [
      "Python is a fun.\n"
     ]
    }
   ],
   "source": [
    "# create a variable assing a boolean value\n",
    "is_python_fun = True    # or assing a False value than print(\"python is not a fun\")\n",
    "\n",
    "# print a statement based that python considerd a fun\n",
    "if is_python_fun:\n",
    "    print(\"Python is a fun.\")\n",
    "else:\n",
    "    print(\"Python is not a fun.\")\n"
   ]
  },
  {
   "cell_type": "markdown",
   "id": "a2951e55",
   "metadata": {},
   "source": [
    "## Question No :: 04\n",
    "\n",
    "• Create a list, fruits, with three different fruit names. Print the list and then add a new fruit to it. \n",
    "Print the updated list"
   ]
  },
  {
   "cell_type": "code",
   "execution_count": 32,
   "id": "1d539e41",
   "metadata": {},
   "outputs": [
    {
     "name": "stdout",
     "output_type": "stream",
     "text": [
      "Original fruits list :  ['Apple', 'Mango', 'Banana']\n",
      "Updata list is :  ['Apple', 'Mango', 'Banana', 'Orange']\n"
     ]
    }
   ],
   "source": [
    "# Create a list of fruits\n",
    "\n",
    "Fruits = [\"Apple\",\"Mango\",\"Banana\"]\n",
    "\n",
    "# orignal fruits list\n",
    "print(\"Original fruits list : \",Fruits)\n",
    "\n",
    "# Add a new furits in the list\n",
    "Fruits.append(\"Orange\")\n",
    "\n",
    "# updata list\n",
    "print(\"Updata list is : \",Fruits)"
   ]
  },
  {
   "cell_type": "markdown",
   "id": "55044013",
   "metadata": {},
   "source": [
    "## Question No :: 05\n",
    "\n",
    "• Declare a variable, price, with a floating-point value. Convert it to an integer and print both the \n",
    "original and converted values."
   ]
  },
  {
   "cell_type": "code",
   "execution_count": 33,
   "id": "c65feef0",
   "metadata": {},
   "outputs": [
    {
     "name": "stdout",
     "output_type": "stream",
     "text": [
      "Original value is : 5.6\n",
      "Converted value is that : 5\n"
     ]
    }
   ],
   "source": [
    "# create a variable floating value.\n",
    "value = 5.6\n",
    "\n",
    "# print original value\n",
    "print(\"Original value is :\",value)\n",
    "\n",
    "# Convert value into integer\n",
    "integer_value = int(value)\n",
    "\n",
    "# print converted value.\n",
    "print(\"Converted value is that :\",integer_value)"
   ]
  },
  {
   "cell_type": "markdown",
   "id": "9ab2ac0e",
   "metadata": {},
   "source": [
    "## Question No :: 06\n",
    "\n",
    "• Create a dictionary, student_info, with keys for 'name', 'age', and 'grade'. Assign corresponding \n",
    "values and print the dictionary."
   ]
  },
  {
   "cell_type": "code",
   "execution_count": 34,
   "id": "3fe632fc",
   "metadata": {},
   "outputs": [
    {
     "name": "stdout",
     "output_type": "stream",
     "text": [
      "student_Information : {'name': 'Muhammad ishaq', 'age': 20, 'grade': 'A'}\n"
     ]
    }
   ],
   "source": [
    "# create a dictionary,student_info, with keys for \"name\",\"age\",\"grade\".\n",
    "student_info = {\n",
    "    \"name\":\"Muhammad ishaq\",\n",
    "    \"age\" : 20,\n",
    "    \"grade\": \"A\"\n",
    "}\n",
    "# print dictionary\n",
    "print(\"student_Information :\",student_info)"
   ]
  },
  {
   "cell_type": "markdown",
   "id": "cacacce0",
   "metadata": {},
   "source": [
    "## Question No :: 07\n",
    "\n",
    "• Write a program that takes user input for their age and prints a message addressing their age \n",
    "group (e.g., \"Teenager,\" \"Adult\")."
   ]
  },
  {
   "cell_type": "code",
   "execution_count": 37,
   "id": "426edd81",
   "metadata": {},
   "outputs": [
    {
     "name": "stdout",
     "output_type": "stream",
     "text": [
      "Enter you age : 8\n",
      "You are  Teenager\n"
     ]
    }
   ],
   "source": [
    "# create user input for thier age\n",
    "user = int(input(\"Enter you age : \"))\n",
    "# check if user age is teenager or adult\n",
    "if user <= 20:\n",
    "    print(\"You are  Teenager\")\n",
    "else:\n",
    "    print(\"You are Adult\")"
   ]
  },
  {
   "cell_type": "markdown",
   "id": "0d56724b",
   "metadata": {},
   "source": [
    "## Question No :: 08\n",
    "\n",
    "• Define a complex number variable, comp_num, with a real and imaginary part. Print both parts \n",
    "separately"
   ]
  },
  {
   "cell_type": "code",
   "execution_count": 38,
   "id": "76820174",
   "metadata": {},
   "outputs": [
    {
     "name": "stdout",
     "output_type": "stream",
     "text": [
      "Real part of complex number : 6.0\n",
      "Imaginary part of complex number : 5.0\n"
     ]
    }
   ],
   "source": [
    "# create a complex number variable\n",
    "comp_num = 6+5j\n",
    "# print both parts separately real and imaginary .\n",
    "print(\"Real part of complex number :\",comp_num.real)\n",
    "print(\"Imaginary part of complex number :\",comp_num.imag)"
   ]
  },
  {
   "cell_type": "markdown",
   "id": "09a52068",
   "metadata": {},
   "source": [
    "## Question No :: 09\n",
    "\n",
    "• Combine two strings using string concatenation, and then use string interpolation to include the \n",
    "length of the resulting string in a print statement."
   ]
  },
  {
   "cell_type": "code",
   "execution_count": 39,
   "id": "a749ed67",
   "metadata": {},
   "outputs": [
    {
     "name": "stdout",
     "output_type": "stream",
     "text": [
      "Combine string is that : \"Muhammad Ishaq\".Its lenght : 14\n"
     ]
    }
   ],
   "source": [
    "# create a two variable and assing two string values.\n",
    "str1 = \"Muhammad\"\n",
    "str2 = \" Ishaq\"\n",
    "# concatenation two string and there length is \n",
    "combine = str1 + str2\n",
    "print(f\"Combine string is that : \\\"{combine}\\\".Its lenght : {len(combine)}\")\n"
   ]
  },
  {
   "cell_type": "markdown",
   "id": "69bfbc2b",
   "metadata": {},
   "source": [
    "## Queation No :: 10\n",
    "\n",
    "• Create a tuple, days_of_week, with the names of the days. Access and print the third day of the \n",
    "week.\n"
   ]
  },
  {
   "cell_type": "code",
   "execution_count": 40,
   "id": "ba21d642",
   "metadata": {},
   "outputs": [
    {
     "name": "stdout",
     "output_type": "stream",
     "text": [
      "Third day of the week is that :: Wednesday\n"
     ]
    }
   ],
   "source": [
    "# Create a tuple\n",
    "days_of_week = (\"Monday\",'Tuesday','Wednesday','Thursday','Friday','Saturday','Sunday')\n",
    "\n",
    "# if you access and print the third dsy of the week.\n",
    "third_day = days_of_week[2]\n",
    "# print third day\n",
    "print(\"Third day of the week is that ::\",third_day)\n"
   ]
  },
  {
   "cell_type": "code",
   "execution_count": null,
   "id": "2ce26c38",
   "metadata": {},
   "outputs": [],
   "source": []
  }
 ],
 "metadata": {
  "kernelspec": {
   "display_name": "Python 3 (ipykernel)",
   "language": "python",
   "name": "python3"
  },
  "language_info": {
   "codemirror_mode": {
    "name": "ipython",
    "version": 3
   },
   "file_extension": ".py",
   "mimetype": "text/x-python",
   "name": "python",
   "nbconvert_exporter": "python",
   "pygments_lexer": "ipython3",
   "version": "3.11.5"
  }
 },
 "nbformat": 4,
 "nbformat_minor": 5
}
